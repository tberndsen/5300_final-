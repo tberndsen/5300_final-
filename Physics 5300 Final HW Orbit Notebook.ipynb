{
 "cells": [
  {
   "cell_type": "markdown",
   "metadata": {},
   "source": [
    "# Orbits in Cartesian Coordinates - Tiberius Berndsen\n",
    "In this notebook I will do parts A, B, and C of problem 2. "
   ]
  },
  {
   "cell_type": "code",
   "execution_count": 21,
   "metadata": {},
   "outputs": [],
   "source": [
    "%matplotlib inline"
   ]
  },
  {
   "cell_type": "code",
   "execution_count": 22,
   "metadata": {},
   "outputs": [],
   "source": [
    "import numpy as np\n",
    "from scipy.integrate import odeint, solve_ivp\n",
    "import matplotlib.pyplot as plt"
   ]
  },
  {
   "cell_type": "markdown",
   "metadata": {},
   "source": [
    "# Part A\n",
    "\n",
    "When dealing with the orbit equation the most common form one uses is the following.\n",
    "\n",
    "$\\begin{equation}\n",
    "\\ddot r - r \\dot\\phi^2 = - \\frac{GMm}{r^2}\n",
    "\\end{equation}$\n",
    "\n",
    "However, this is most useful for dealing with a 2-body problem in an analytical manner. When wanting to deal with objects in motion, the better way to do it numerically is via Cartesian coordinates. While a pain in hand done problems, they are of good use in the way python solves odes. Additionally they allow one to avoid having to take into account the centrifugal force. So let us define our z-vector (we will use z since we are already using y as a coordinate) as such. The indexes will not which mass they are describing, mass 1 goes to 1, mass 2 to 2.\n",
    "\n",
    "$ \\begin{align}\n",
    "z = \n",
    "\\begin{pmatrix}\n",
    "z_1\\\\\n",
    "z_2\\\\\n",
    "z_3\\\\\n",
    "z_4\\\\\n",
    "z_5\\\\\n",
    "z_6\\\\\n",
    "z_7\\\\\n",
    "z_8\n",
    "\\end{pmatrix}\n",
    "=\n",
    "\\begin{pmatrix}\n",
    "x_1 \\\\\n",
    "\\dot x_1 \\\\\n",
    "y_1 \\\\\n",
    "\\dot y_1 \\\\\n",
    "x_2 \\\\\n",
    "\\dot x_2 \\\\\n",
    "y_2 \\\\\n",
    "\\dot y_2 \\\\\n",
    "\\end{pmatrix}\n",
    "\\end{align}\n",
    "$\n",
    "\n",
    "We can easily convert by noting in this context we can have the trig relations to fully convert from polar to cartesian.\n",
    "\n",
    "$\\begin{equation}\n",
    "r^2 = x^2 + y^2\n",
    "\\end{equation}$\n",
    "\n",
    "$\\begin{equation}\n",
    "\\cos\\phi = \\frac{x}{\\sqrt{x^2 + y^2}}\n",
    "\\end{equation}$\n",
    "\n",
    "$\\begin{equation}\n",
    "\\sin\\phi = \\frac{y}{\\sqrt{x^2 + y^2}}\n",
    "\\end{equation}$\n",
    "\n",
    "By taking advantage of Newton's third law we can show that the following relations are true. \n",
    "\n",
    "$\\begin{equation}\n",
    "m_{1}\\ddot x_{1} = - m_{2}\\ddot x_{2} = -\\frac{Gm_{1}m_{2} (x_{2} - x_{1})}{((x_2 - x_1)^2 + (y_2 - y_1)^2)^{\\frac{3}{2}}}\n",
    "\\end{equation}$\n",
    "\n",
    "$\\begin{equation}\n",
    "m_{1}\\ddot y_{1} = - m_{2}\\ddot y_{2} = -\\frac{Gm_{1}m_{2} (y_{2} - y_{1})}{((x_2 - x_1)^2 + (y_2 - y_1)^2)^{\\frac{3}{2}}}\n",
    "\\end{equation}$\n",
    "\n",
    "The choice of mass 1 or mass 2 carrying the negative is arbitrary by Newton's third law as long as it is kept consistent. "
   ]
  },
  {
   "cell_type": "code",
   "execution_count": 48,
   "metadata": {},
   "outputs": [],
   "source": [
    "class CartesianOrbits():\n",
    "    \"\"\"\n",
    "    Here we will use the equations documented above to determine what the \n",
    "    resulting motion will look like. I will use the dz/dt method to solve\n",
    "    the equations numerically.\n",
    "    \"\"\"\n",
    "    def __init__(self, m_1 = 1., m_2 = 1., G = 1.):\n",
    "        self.m_1 = m_1 #Mass of oject 1: Float\n",
    "        self.m_2 = m_2 #Mass of oject 2: Float\n",
    "        self.G = G #Gravitational Constant: Float\n",
    "        \"\"\"\n",
    "        Remarkably motion under gravity requires few input parameters.\n",
    "        \"\"\"\n",
    "    def dz_dt(self, t, z):\n",
    "        \"\"\"\n",
    "        The z-vector has 8 components in it which are organized in the \n",
    "        following manner:\n",
    "        \n",
    "        z[0] = x_1\n",
    "        z[1] = \\dot x_1\n",
    "        z[2] = y_1\n",
    "        z[3] = \\dot y_1\n",
    "        z[4] = x_2\n",
    "        z[5] = \\dot x_2\n",
    "        z[6] = y_2\n",
    "        z[7] = \\dot y_2\n",
    "        \n",
    "        So when we do the dz/dt we should only have to plug in an equation\n",
    "        into dz_dt[1], dz_dt[3], dz_dt[5], dz_dt[7]. As discussed in the\n",
    "        write up above, it is arbritary which object carries the negative\n",
    "        let object two carry it.\n",
    "        \"\"\"\n",
    "        \n",
    "        return [z[1], self.G * self.m_2 * (z[4] -z[0]) / ( ( (z[4] - z[0]) ** 2  + (z[6] - z[2]) ** 2) ** (1.5) ), \\\n",
    "                z[3], self.G * self.m_2 * (z[6] -z[2]) / ( ( (z[4] - z[0]) ** 2  + (z[6] - z[2]) ** 2) ** (1.5) ), \\\n",
    "                z[5], -1 * self.G * self.m_1 * (z[4] -z[0]) / ( ( (z[4] - z[0]) ** 2  + (z[6] - z[2]) ** 2) ** (1.5) ), \\\n",
    "                z[7], -1 * self.G * self.m_1 * (z[6] -z[2]) / ( ( (z[4] - z[0]) ** 2  + (z[6] - z[2]) ** 2) ** (1.5) )]\n",
    "    \n",
    "    def solve_ode(self, t_pts, x_1_0, x_1_dot_0, y_1_0, y_1_dot_0, \\\n",
    "                  x_2_0, x_2_dot_0, y_2_0, y_2_dot_0, abserr=1.0e-9, relerr=1.0e-9):\n",
    "        \"\"\"\n",
    "        Here we need 8 initial conditions x_1_0, x_1_dot_0, y_1_0, y_1_dot_0, \\\n",
    "                  x_2_0, x_2_dot_0, y_2_0, y_2_dot_0\n",
    "        \"\"\"\n",
    "        \n",
    "        z = [x_1_0, x_1_dot_0, y_1_0, y_1_dot_0, \\\n",
    "                  x_2_0, x_2_dot_0, y_2_0, y_2_dot_0] \n",
    "        solution = solve_ivp(self.dz_dt, (t_pts[0], t_pts[-1]), \n",
    "                             z, t_eval=t_pts, \n",
    "                             atol=abserr, rtol=relerr)\n",
    "        x_1, x_1_dot, y_1, y_1_dot, \\\n",
    "                  x_2, x_2_dot, y_2, y_2_dot = solution.y\n",
    "\n",
    "        return x_1, x_1_dot, y_1, y_1_dot, x_2, x_2_dot, y_2, y_2_dot"
   ]
  },
  {
   "cell_type": "markdown",
   "metadata": {},
   "source": [
    "# Part B\n",
    "Now that we have code that can solve the equations of motion we can now show what the motion would look like. Specifically we want to show that if one mass if much heavier than the other (for the sake of argument let $m_{1} >> m_{2}$) and we are in the rest frame, then the problem will simply reduce to the two body problems considered in class."
   ]
  },
  {
   "cell_type": "code",
   "execution_count": 49,
   "metadata": {},
   "outputs": [],
   "source": [
    "# Again this was borrowed from the Lagrangian Pendulum notebook\n",
    "\n",
    "def plot_y_vs_x(x, y, axis_labels=None, label=None, title=None, \n",
    "                color=None, linestyle=None, semilogy=False, loglog=False,\n",
    "                ax=None):\n",
    "    \"\"\"\n",
    "    Generic plotting function: return a figure axis with a plot of y vs. x,\n",
    "    with line color and style, title, axis labels, and line label\n",
    "    \"\"\"\n",
    "    if ax is None:        # if the axis object doesn't exist, make one\n",
    "        ax = plt.gca()\n",
    "\n",
    "    if (semilogy):\n",
    "        line, = ax.semilogy(x, y, label=label, \n",
    "                            color=color, linestyle=linestyle)\n",
    "    elif (loglog):\n",
    "        line, = ax.loglog(x, y, label=label, \n",
    "                          color=color, linestyle=linestyle)\n",
    "    else:\n",
    "        line, = ax.plot(x, y, label=label, \n",
    "                    color=color, linestyle=linestyle)\n",
    "\n",
    "    if label is not None:    # if a label if passed, show the legend\n",
    "        ax.legend()\n",
    "    if title is not None:    # set a title if one if passed\n",
    "        ax.set_title(title)\n",
    "    if axis_labels is not None:  # set x-axis and y-axis labels if passed  \n",
    "        ax.set_xlabel(axis_labels[0])\n",
    "        ax.set_ylabel(axis_labels[1])\n",
    "\n",
    "    return ax, line"
   ]
  },
  {
   "cell_type": "code",
   "execution_count": 50,
   "metadata": {},
   "outputs": [],
   "source": [
    "#This part was borrowed from the Lagrangian Pendulum Notebook\n",
    "\n",
    "def start_stop_indices(t_pts, plot_start, plot_stop):\n",
    "    start_index = (np.fabs(t_pts-plot_start)).argmin()  # index in t_pts array \n",
    "    stop_index = (np.fabs(t_pts-plot_stop)).argmin()  # index in t_pts array \n",
    "    return start_index, stop_index"
   ]
  },
  {
   "cell_type": "code",
   "execution_count": 51,
   "metadata": {},
   "outputs": [],
   "source": [
    "# Define the time for which we will solve the equations\n",
    "\n",
    "t_start = 0. \n",
    "t_end = 100.\n",
    "delta_t = 0.01\n",
    "\n",
    "t_pts = np.arange(t_start, t_end + delta_t, delta_t)"
   ]
  },
  {
   "cell_type": "code",
   "execution_count": 56,
   "metadata": {},
   "outputs": [
    {
     "data": {
      "image/png": "[encoded data removed]",
      "text/plain": [
       "<Figure size 720x360 with 1 Axes>"
      ]
     },
     "metadata": {
      "needs_background": "light"
     },
     "output_type": "display_data"
    }
   ],
   "source": [
    "# Next we define what the constants are\n",
    "G = 1.\n",
    "m1 = 5.\n",
    "m2 = 1.\n",
    "\n",
    "orbit = CartesianOrbits(m1, m2, G)\n",
    "\n",
    "# For this plot to be made sense of will need to a center of mass to be stationary\n",
    "# Best way to do this is to first define the smaller mass first\n",
    "\n",
    "x_2_0 = 1.\n",
    "x_2_dot_0 = -1.0\n",
    "y_2_0 = 1.\n",
    "y_2_dot_0 = 1.\n",
    "\n",
    "# If we let the larger mass have the opposite initial coniditions times the ratio\n",
    "# between masses this will ensure that \\dot R = 0\n",
    "\n",
    "x_1_0 = - 1 * ((m2) / (m1)) * x_2_0\n",
    "x_1_dot_0 = - 1 * ((m2) / (m1)) * x_2_dot_0\n",
    "y_1_0 = - 1 * ((m2) / (m1)) * y_2_0\n",
    "y_1_dot_0 = - 1 * ((m2) / (m1)) * y_2_dot_0\n",
    "\n",
    "# Now when we solve these equations we will have them orbit about a barycenter\n",
    "# Where the barycenter is just the center of mass\n",
    "\n",
    "x_1, x_1_dot, y_1, y_1_dot, x_2, x_2_dot, y_2, y_2_dot = orbit.solve_ode(t_pts, x_1_0, x_1_dot_0, y_1_0, y_1_dot_0, \\\n",
    "                  x_2_0, x_2_dot_0, y_2_0, y_2_dot_0)\n",
    "\n",
    "fig_orbit = plt.figure(figsize=(10,5))\n",
    "ax_orbit = fig_orbit.add_subplot(1,1,1)\n",
    "\n",
    "# Here we will plot the state space on the same graph, to show that for both the motion is not chaotic.\n",
    "ax_orbit.plot(x_1, y_1, linestyle='solid', color='green', label='Mass 1')\n",
    "ax_orbit.plot(x_2, y_2, linestyle='solid', color='purple', label='Mass 2')\n",
    "\n",
    "# Make sure one picks suitable limits so you can see all of the figure\n",
    "ax_orbit.set_xlim(-2., 2.)\n",
    "ax_orbit.set_ylim(-2., 2.)\n",
    "ax_orbit.set_xlabel('$x$')\n",
    "ax_orbit.set_ylabel('$y$')\n",
    "ax_orbit.set_title(f'Orbit :$ m_1 = {m1} ,\\ \\  m_2 = {m2}, \\ \\ G = {G}$')\n",
    "ax_orbit.legend(loc='upper center')\n",
    "ax_orbit.axhline(0., color='black', alpha=0.3)\n",
    "plt.legend(loc = 'upper right')\n",
    "fig_orbit.tight_layout()"
   ]
  },
  {
   "cell_type": "markdown",
   "metadata": {},
   "source": [
    "So here we see two ellipses orbiting about their center of mass. Since each one is orbiting around a foci, then Kepler's laws and the results from Newton's laws of motion apply here very neatly. Now we wish to show that if $m_1 >> m_2$ is taken to its extreme, or in short.\n",
    "\n",
    "$\\begin{equation}\n",
    "\\frac{m_2}{m_2} \\xrightarrow []{} 0\n",
    "\\end{equation}$\n",
    "\n",
    "We should return the case where the larger object is essentially fixed in this frame. So for exaple the earth and the sun. So let us create a case where this is true. Now in doing so it is important that one also increases how far away the smaller object is from the larger one, or else it will simulate the object fallining into it due to the significantly higher force it is subject to."
   ]
  },
  {
   "cell_type": "code",
   "execution_count": 63,
   "metadata": {},
   "outputs": [
    {
     "data": {
      "image/png": "[encoded data removed]",
      "text/plain": [
       "<Figure size 720x360 with 1 Axes>"
      ]
     },
     "metadata": {
      "needs_background": "light"
     },
     "output_type": "display_data"
    }
   ],
   "source": [
    "# Next we define what the constants are\n",
    "G = 1.\n",
    "m1 = 100.\n",
    "m2 = 1.\n",
    "\n",
    "orbit = CartesianOrbits(m1, m2, G)\n",
    "\n",
    "# For this plot to be made sense of will need to a center of mass to be stationary\n",
    "# Best way to do this is to first define the smaller mass first\n",
    "\n",
    "x_2_0 = 10.\n",
    "x_2_dot_0 = -1.0\n",
    "y_2_0 = 10.\n",
    "y_2_dot_0 = 1.0\n",
    "\n",
    "# If we let the larger mass have the opposite initial coniditions times the ratio\n",
    "# between masses this will ensure that \\dot R = 0\n",
    "\n",
    "x_1_0 = - 1 * ((m2) / (m1)) * x_2_0\n",
    "x_1_dot_0 = - 1 * ((m2) / (m1)) * x_2_dot_0\n",
    "y_1_0 = - 1 * ((m2) / (m1)) * y_2_0\n",
    "y_1_dot_0 = - 1 * ((m2) / (m1)) * y_2_dot_0\n",
    "\n",
    "# Now when we solve these equations we will have them orbit about a barycenter\n",
    "# Where the barycenter is just the center of mass\n",
    "\n",
    "x_1, x_1_dot, y_1, y_1_dot, x_2, x_2_dot, y_2, y_2_dot = orbit.solve_ode(t_pts, x_1_0, x_1_dot_0, y_1_0, y_1_dot_0, \\\n",
    "                  x_2_0, x_2_dot_0, y_2_0, y_2_dot_0)\n",
    "\n",
    "fig_orbit = plt.figure(figsize=(10,5))\n",
    "ax_orbit = fig_orbit.add_subplot(1,1,1)\n",
    "\n",
    "# Here we will plot the state space on the same graph, to show that for both the motion is not chaotic.\n",
    "ax_orbit.plot(x_1, y_1, linestyle='solid', color='green', label='Mass 1')\n",
    "ax_orbit.plot(x_2, y_2, linestyle='solid', color='purple', label='Mass 2')\n",
    "\n",
    "# Make sure one picks suitable limits so you can see all of the figure\n",
    "ax_orbit.set_xlim(-5., 15.)\n",
    "ax_orbit.set_ylim(-5., 15.)\n",
    "ax_orbit.set_xlabel('$x$')\n",
    "ax_orbit.set_ylabel('$y$')\n",
    "ax_orbit.set_title(f'Orbit :$ m_1 = {m1} ,\\ \\  m_2 = {m2}, \\ \\ G = {G}$')\n",
    "ax_orbit.legend(loc='upper center')\n",
    "ax_orbit.axhline(0., color='black', alpha=0.3)\n",
    "plt.legend(loc = 'upper right')\n",
    "fig_orbit.tight_layout()"
   ]
  },
  {
   "cell_type": "markdown",
   "metadata": {},
   "source": [
    "As we can see the motion of the larger mass is reduced to effectively nothing. As a result in cases like this it is acceptable to use the idea that the reduced mass $\\mu = m_2$ and there fore the center of mass is where the larger mass sits exactly"
   ]
  },
  {
   "cell_type": "code",
   "execution_count": null,
   "metadata": {},
   "outputs": [],
   "source": []
  }
 ],
 "metadata": {
  "kernelspec": {
   "display_name": "Python 3",
   "language": "python",
   "name": "python3"
  },
  "language_info": {
   "codemirror_mode": {
    "name": "ipython",
    "version": 3
   },
   "file_extension": ".py",
   "mimetype": "text/x-python",
   "name": "python",
   "nbconvert_exporter": "python",
   "pygments_lexer": "ipython3",
   "version": "3.8.3"
  }
 },
 "nbformat": 4,
 "nbformat_minor": 4
}
